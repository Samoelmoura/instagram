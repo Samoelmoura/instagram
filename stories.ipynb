{
 "cells": [
  {
   "cell_type": "code",
   "execution_count": 1,
   "id": "47d1f4c7",
   "metadata": {
    "ExecuteTime": {
     "end_time": "2023-11-28T19:23:38.259273Z",
     "start_time": "2023-11-28T19:23:38.161375Z"
    }
   },
   "outputs": [],
   "source": [
    "# imports\n",
    "import pyautogui\n",
    "import subprocess\n",
    "from selenium import webdriver\n",
    "from random import uniform, randint, choices\n",
    "import time\n",
    "from datetime import datetime\n",
    "import os\n",
    "import credentials\n",
    "from selenium.webdriver.common.by import By\n",
    "from selenium.webdriver.common.keys import Keys\n",
    "from selenium.webdriver.common.action_chains import ActionChains\n",
    "import shutil"
   ]
  },
  {
   "cell_type": "code",
   "execution_count": 2,
   "id": "f3da7fc2",
   "metadata": {
    "ExecuteTime": {
     "end_time": "2023-11-28T19:23:38.266928Z",
     "start_time": "2023-11-28T19:23:38.261139Z"
    }
   },
   "outputs": [],
   "source": [
    "def human_behavior():\n",
    "    time.sleep(uniform(min_, max_))\n",
    "    try:\n",
    "        ActionChains(driver).move_by_offset(randint(1, 5), randint(1, 5)).perform()\n",
    "    except:\n",
    "        pass\n",
    "    \n",
    "def close_button():\n",
    "    for i in range(2):\n",
    "        try:\n",
    "            driver.find_element(By.XPATH, \"//button[normalize-space()='Not Now']\").click()\n",
    "            human_behavior()\n",
    "        except:\n",
    "            pass\n",
    "\n",
    "        try:\n",
    "            driver.find_element(By.XPATH, \"//button[normalize-space()='Cancel']\").click()\n",
    "            human_behavior()\n",
    "        except:\n",
    "            pass\n",
    "    \n",
    "\n",
    "def file_imput():\n",
    "    folders = ['Famosos', 'noite 2017', 'noite 2018-1', 'noite 2018-2', 'noite 2022', 'noite Julho 2023', 'noite Julho  Marcela 2023', 'produtos 2020', 'produtos Cerveja', 'produtos Julho 2023', 'produtos Wilian']\n",
    "    folder_weights = [1, 0.2, 0.3, 0.3, 1, 1, 1, 0.3, 1, 1, 0.3]\n",
    "    selected_folder = choices(folders, weights=folder_weights)[0]\n",
    "    folder_path = os.path.join(os.getcwd(), 'img', selected_folder)\n",
    "    files = os.listdir(folder_path)\n",
    "    jpeg_files = [file for file in files if file.lower().endswith(('.png', '.jpg', '.jpeg'))]\n",
    "    rand_choice = randint(0, (len(jpeg_files)-1))\n",
    "    complete_file_name = folder_path + '/' + jpeg_files[rand_choice]\n",
    "    return complete_file_name\n"
   ]
  },
  {
   "cell_type": "code",
   "execution_count": 3,
   "id": "b71bed34",
   "metadata": {
    "ExecuteTime": {
     "end_time": "2023-11-28T19:23:38.274147Z",
     "start_time": "2023-11-28T19:23:38.268607Z"
    }
   },
   "outputs": [],
   "source": [
    "# definindo variáveis\n",
    "username = credentials.username\n",
    "password = credentials.password\n",
    "min_ = 3.3\n",
    "max_ = 6.8\n",
    "min_dig = 0.1\n",
    "max_dig = 0.25\n",
    "i = 0"
   ]
  },
  {
   "cell_type": "code",
   "execution_count": 4,
   "id": "74576d12",
   "metadata": {
    "ExecuteTime": {
     "end_time": "2023-11-28T19:23:39.256117Z",
     "start_time": "2023-11-28T19:23:38.276531Z"
    }
   },
   "outputs": [],
   "source": [
    "# Iniciando o navegador emulado como smartphone\n",
    "# Configurações do emulador de smartphone\n",
    "mobile_emulation = {\n",
    "    \"deviceMetrics\": {\"width\": 360, \"height\": 640, \"pixelRatio\": 3.0},\n",
    "    \"userAgent\": \"Mozilla/5.0 (Linux; Android 10; SM-G975F) AppleWebKit/537.36 (KHTML, like Gecko) Chrome/91.0.4472.124 Mobile Safari/537.36 Edg/91.0.864.54\",\n",
    "}\n",
    "\n",
    "# Inicia o navegador emulado como smartphone\n",
    "chrome_options = webdriver.ChromeOptions()\n",
    "chrome_options.add_experimental_option(\"mobileEmulation\", mobile_emulation)\n",
    "driver = webdriver.Chrome(options=chrome_options)"
   ]
  },
  {
   "cell_type": "code",
   "execution_count": 5,
   "id": "acfe59b0",
   "metadata": {
    "ExecuteTime": {
     "end_time": "2023-11-28T19:24:17.875627Z",
     "start_time": "2023-11-28T19:23:39.258014Z"
    }
   },
   "outputs": [],
   "source": [
    "# logando\n",
    "driver.get('https://www.instagram.com/')\n",
    "human_behavior()\n",
    "driver.refresh()\n",
    "human_behavior()\n",
    "driver.find_element(By.XPATH, \"//div[normalize-space()='Log in']\").click()\n",
    "human_behavior()\n",
    "\n",
    "temp = driver.find_element(By.XPATH, \"//input[@name='username']\")\n",
    "for caractere in username:\n",
    "    temp.send_keys(caractere)\n",
    "    time.sleep(uniform(min_dig, max_dig))\n",
    "human_behavior()\n",
    "\n",
    "temp = driver.find_element(By.XPATH, \"//input[@name='password']\")\n",
    "for caractere in password:\n",
    "    temp.send_keys(caractere)\n",
    "    time.sleep(uniform(min_dig, max_dig))\n",
    "human_behavior()\n",
    "\n",
    "temp.send_keys(Keys.RETURN)\n",
    "human_behavior()"
   ]
  },
  {
   "cell_type": "code",
   "execution_count": 6,
   "id": "073f3320",
   "metadata": {
    "ExecuteTime": {
     "end_time": "2023-11-28T19:27:28.398108Z",
     "start_time": "2023-11-28T19:24:17.877221Z"
    }
   },
   "outputs": [
    {
     "ename": "NoSuchElementException",
     "evalue": "Message: no such element: Unable to locate element: {\"method\":\"xpath\",\"selector\":\"//span[@class='_aa33']\"}\n  (Session info: chrome=119.0.6045.159); For documentation on this error, please visit: https://www.selenium.dev/documentation/webdriver/troubleshooting/errors#no-such-element-exception\nStacktrace:\n#0 0x557c5ca0a5e3 <unknown>\n#1 0x557c5c6cd0b7 <unknown>\n#2 0x557c5c71af53 <unknown>\n#3 0x557c5c71b051 <unknown>\n#4 0x557c5c7609c4 <unknown>\n#5 0x557c5c741f1d <unknown>\n#6 0x557c5c75db3d <unknown>\n#7 0x557c5c741cc3 <unknown>\n#8 0x557c5c70d0e4 <unknown>\n#9 0x557c5c70e0ae <unknown>\n#10 0x557c5c9d0ce1 <unknown>\n#11 0x557c5c9d4b7e <unknown>\n#12 0x557c5c9be4b5 <unknown>\n#13 0x557c5c9d57d6 <unknown>\n#14 0x557c5c9a1dbf <unknown>\n#15 0x557c5c9f8748 <unknown>\n#16 0x557c5c9f8917 <unknown>\n#17 0x557c5ca09773 <unknown>\n#18 0x7f484da94ac3 <unknown>\n",
     "output_type": "error",
     "traceback": [
      "\u001b[0;31m---------------------------------------------------------------------------\u001b[0m",
      "\u001b[0;31mNoSuchElementException\u001b[0m                    Traceback (most recent call last)",
      "Cell \u001b[0;32mIn[6], line 66\u001b[0m\n\u001b[1;32m     63\u001b[0m     pyautogui\u001b[38;5;241m.\u001b[39mhotkey(\u001b[38;5;124m'\u001b[39m\u001b[38;5;124mctrl\u001b[39m\u001b[38;5;124m'\u001b[39m, \u001b[38;5;124m'\u001b[39m\u001b[38;5;124mshift\u001b[39m\u001b[38;5;124m'\u001b[39m, \u001b[38;5;124m'\u001b[39m\u001b[38;5;124mm\u001b[39m\u001b[38;5;124m'\u001b[39m)\n\u001b[1;32m     64\u001b[0m     human_behavior()\n\u001b[0;32m---> 66\u001b[0m \u001b[43mdriver\u001b[49m\u001b[38;5;241;43m.\u001b[39;49m\u001b[43mfind_element\u001b[49m\u001b[43m(\u001b[49m\u001b[43mBy\u001b[49m\u001b[38;5;241;43m.\u001b[39;49m\u001b[43mXPATH\u001b[49m\u001b[43m,\u001b[49m\u001b[43m \u001b[49m\u001b[38;5;124;43m\"\u001b[39;49m\u001b[38;5;124;43m//span[@class=\u001b[39;49m\u001b[38;5;124;43m'\u001b[39;49m\u001b[38;5;124;43m_aa33\u001b[39;49m\u001b[38;5;124;43m'\u001b[39;49m\u001b[38;5;124;43m]\u001b[39;49m\u001b[38;5;124;43m\"\u001b[39;49m\u001b[43m)\u001b[49m\u001b[38;5;241m.\u001b[39mclick()\n\u001b[1;32m     67\u001b[0m human_behavior()\n\u001b[1;32m     68\u001b[0m human_behavior()\n",
      "File \u001b[0;32m~/environments/selenium/lib/python3.10/site-packages/selenium/webdriver/remote/webdriver.py:741\u001b[0m, in \u001b[0;36mWebDriver.find_element\u001b[0;34m(self, by, value)\u001b[0m\n\u001b[1;32m    738\u001b[0m     by \u001b[38;5;241m=\u001b[39m By\u001b[38;5;241m.\u001b[39mCSS_SELECTOR\n\u001b[1;32m    739\u001b[0m     value \u001b[38;5;241m=\u001b[39m \u001b[38;5;124mf\u001b[39m\u001b[38;5;124m'\u001b[39m\u001b[38;5;124m[name=\u001b[39m\u001b[38;5;124m\"\u001b[39m\u001b[38;5;132;01m{\u001b[39;00mvalue\u001b[38;5;132;01m}\u001b[39;00m\u001b[38;5;124m\"\u001b[39m\u001b[38;5;124m]\u001b[39m\u001b[38;5;124m'\u001b[39m\n\u001b[0;32m--> 741\u001b[0m \u001b[38;5;28;01mreturn\u001b[39;00m \u001b[38;5;28;43mself\u001b[39;49m\u001b[38;5;241;43m.\u001b[39;49m\u001b[43mexecute\u001b[49m\u001b[43m(\u001b[49m\u001b[43mCommand\u001b[49m\u001b[38;5;241;43m.\u001b[39;49m\u001b[43mFIND_ELEMENT\u001b[49m\u001b[43m,\u001b[49m\u001b[43m \u001b[49m\u001b[43m{\u001b[49m\u001b[38;5;124;43m\"\u001b[39;49m\u001b[38;5;124;43musing\u001b[39;49m\u001b[38;5;124;43m\"\u001b[39;49m\u001b[43m:\u001b[49m\u001b[43m \u001b[49m\u001b[43mby\u001b[49m\u001b[43m,\u001b[49m\u001b[43m \u001b[49m\u001b[38;5;124;43m\"\u001b[39;49m\u001b[38;5;124;43mvalue\u001b[39;49m\u001b[38;5;124;43m\"\u001b[39;49m\u001b[43m:\u001b[49m\u001b[43m \u001b[49m\u001b[43mvalue\u001b[49m\u001b[43m}\u001b[49m\u001b[43m)\u001b[49m[\u001b[38;5;124m\"\u001b[39m\u001b[38;5;124mvalue\u001b[39m\u001b[38;5;124m\"\u001b[39m]\n",
      "File \u001b[0;32m~/environments/selenium/lib/python3.10/site-packages/selenium/webdriver/remote/webdriver.py:347\u001b[0m, in \u001b[0;36mWebDriver.execute\u001b[0;34m(self, driver_command, params)\u001b[0m\n\u001b[1;32m    345\u001b[0m response \u001b[38;5;241m=\u001b[39m \u001b[38;5;28mself\u001b[39m\u001b[38;5;241m.\u001b[39mcommand_executor\u001b[38;5;241m.\u001b[39mexecute(driver_command, params)\n\u001b[1;32m    346\u001b[0m \u001b[38;5;28;01mif\u001b[39;00m response:\n\u001b[0;32m--> 347\u001b[0m     \u001b[38;5;28;43mself\u001b[39;49m\u001b[38;5;241;43m.\u001b[39;49m\u001b[43merror_handler\u001b[49m\u001b[38;5;241;43m.\u001b[39;49m\u001b[43mcheck_response\u001b[49m\u001b[43m(\u001b[49m\u001b[43mresponse\u001b[49m\u001b[43m)\u001b[49m\n\u001b[1;32m    348\u001b[0m     response[\u001b[38;5;124m\"\u001b[39m\u001b[38;5;124mvalue\u001b[39m\u001b[38;5;124m\"\u001b[39m] \u001b[38;5;241m=\u001b[39m \u001b[38;5;28mself\u001b[39m\u001b[38;5;241m.\u001b[39m_unwrap_value(response\u001b[38;5;241m.\u001b[39mget(\u001b[38;5;124m\"\u001b[39m\u001b[38;5;124mvalue\u001b[39m\u001b[38;5;124m\"\u001b[39m, \u001b[38;5;28;01mNone\u001b[39;00m))\n\u001b[1;32m    349\u001b[0m     \u001b[38;5;28;01mreturn\u001b[39;00m response\n",
      "File \u001b[0;32m~/environments/selenium/lib/python3.10/site-packages/selenium/webdriver/remote/errorhandler.py:229\u001b[0m, in \u001b[0;36mErrorHandler.check_response\u001b[0;34m(self, response)\u001b[0m\n\u001b[1;32m    227\u001b[0m         alert_text \u001b[38;5;241m=\u001b[39m value[\u001b[38;5;124m\"\u001b[39m\u001b[38;5;124malert\u001b[39m\u001b[38;5;124m\"\u001b[39m]\u001b[38;5;241m.\u001b[39mget(\u001b[38;5;124m\"\u001b[39m\u001b[38;5;124mtext\u001b[39m\u001b[38;5;124m\"\u001b[39m)\n\u001b[1;32m    228\u001b[0m     \u001b[38;5;28;01mraise\u001b[39;00m exception_class(message, screen, stacktrace, alert_text)  \u001b[38;5;66;03m# type: ignore[call-arg]  # mypy is not smart enough here\u001b[39;00m\n\u001b[0;32m--> 229\u001b[0m \u001b[38;5;28;01mraise\u001b[39;00m exception_class(message, screen, stacktrace)\n",
      "\u001b[0;31mNoSuchElementException\u001b[0m: Message: no such element: Unable to locate element: {\"method\":\"xpath\",\"selector\":\"//span[@class='_aa33']\"}\n  (Session info: chrome=119.0.6045.159); For documentation on this error, please visit: https://www.selenium.dev/documentation/webdriver/troubleshooting/errors#no-such-element-exception\nStacktrace:\n#0 0x557c5ca0a5e3 <unknown>\n#1 0x557c5c6cd0b7 <unknown>\n#2 0x557c5c71af53 <unknown>\n#3 0x557c5c71b051 <unknown>\n#4 0x557c5c7609c4 <unknown>\n#5 0x557c5c741f1d <unknown>\n#6 0x557c5c75db3d <unknown>\n#7 0x557c5c741cc3 <unknown>\n#8 0x557c5c70d0e4 <unknown>\n#9 0x557c5c70e0ae <unknown>\n#10 0x557c5c9d0ce1 <unknown>\n#11 0x557c5c9d4b7e <unknown>\n#12 0x557c5c9be4b5 <unknown>\n#13 0x557c5c9d57d6 <unknown>\n#14 0x557c5c9a1dbf <unknown>\n#15 0x557c5c9f8748 <unknown>\n#16 0x557c5c9f8917 <unknown>\n#17 0x557c5ca09773 <unknown>\n#18 0x7f484da94ac3 <unknown>\n"
     ]
    }
   ],
   "source": [
    "close_button()\n",
    "while True:\n",
    "    hour = datetime.today().now().hour\n",
    "    if hour >=19:\n",
    "        time.sleep(uniform((50400 - 3600), (50400 + 3600)))\n",
    "    elif hour == 11:\n",
    "        time.sleep(uniform(3000, 4000))\n",
    "    else:        \n",
    "        # postando\n",
    "        human_behavior()\n",
    "        if i == 0:\n",
    "            try:\n",
    "                driver.find_element(By.XPATH, \"//div[@role='button']\").click()\n",
    "                human_behavior()\n",
    "                close_button()\n",
    "                human_behavior()\n",
    "            except:\n",
    "                pass\n",
    "        \n",
    "        else:\n",
    "            driver.refresh()\n",
    "            driver.set_window_size(360, 640)\n",
    "            human_behavior()\n",
    "            \n",
    "        driver.find_element(By.XPATH, \"(//*[name()='svg'][@aria-label='Home'])[2]\").click()\n",
    "        human_behavior()\n",
    "\n",
    "        temp = driver.find_element(By.XPATH, \"//span[contains(text(),'Story')]\").click()\n",
    "        human_behavior()\n",
    "\n",
    "        complete_file_name = file_imput()\n",
    "        shutil.copyfile(complete_file_name, \"/home/samoel/aaa.jpeg\")\n",
    "\n",
    "        if i == 0:\n",
    "            subprocess.run([\"xdotool\", \"mousemove\", \"200\", \"315\", \"click\", \"1\"])\n",
    "            human_behavior()\n",
    "\n",
    "            pyautogui.moveTo(x=345, y=345, duration=1)\n",
    "            pyautogui.doubleClick()\n",
    "            human_behavior()\n",
    "\n",
    "        else:\n",
    "            subprocess.run([\"xdotool\", \"mousemove\", \"65\", \"275\", \"click\", \"1\"])\n",
    "            human_behavior()\n",
    "\n",
    "            pyautogui.moveTo(x=216, y=296, duration=1)\n",
    "            pyautogui.doubleClick()\n",
    "            human_behavior()        \n",
    "\n",
    "\n",
    "        subprocess.run(['xdotool', 'search', '--name', 'Open File', 'windowkill'])\n",
    "        human_behavior()\n",
    "\n",
    "        pyautogui.hotkey('ctrl', 'shift', 'i')\n",
    "        human_behavior()\n",
    "\n",
    "        if i == 0:\n",
    "            pyautogui.hotkey('ctrl', 'shift', 'm')\n",
    "            human_behavior()\n",
    "        else:\n",
    "            pyautogui.hotkey('ctrl', 'shift', 'm')\n",
    "            human_behavior()\n",
    "            pyautogui.hotkey('ctrl', 'shift', 'm')\n",
    "            human_behavior()\n",
    "\n",
    "        driver.find_element(By.XPATH, \"//span[@class='_aa33']\").click()\n",
    "        human_behavior()\n",
    "        human_behavior()\n",
    "\n",
    "        close_button()\n",
    "\n",
    "        pyautogui.hotkey('ctrl', 'shift', 'i')\n",
    "        time.sleep(uniform(min_, max_))\n",
    "\n",
    "        close_button()        \n",
    "        \n",
    "        i += 1\n",
    "        time.sleep(uniform(30, 100))"
   ]
  }
 ],
 "metadata": {
  "kernelspec": {
   "display_name": "Python 3 (ipykernel)",
   "language": "python",
   "name": "python3"
  },
  "language_info": {
   "codemirror_mode": {
    "name": "ipython",
    "version": 3
   },
   "file_extension": ".py",
   "mimetype": "text/x-python",
   "name": "python",
   "nbconvert_exporter": "python",
   "pygments_lexer": "ipython3",
   "version": "3.10.12"
  }
 },
 "nbformat": 4,
 "nbformat_minor": 5
}
